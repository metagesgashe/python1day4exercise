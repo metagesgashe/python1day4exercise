{
 "cells": [
  {
   "cell_type": "markdown",
   "metadata": {},
   "source": [
    "1. Create a dictionary named pairs with key value pairs of hello and fire, 3 and seven, strong and 45. Print out the dictionary."
   ]
  },
  {
   "cell_type": "code",
   "execution_count": 9,
   "metadata": {},
   "outputs": [
    {
     "name": "stdout",
     "output_type": "stream",
     "text": [
      "{'hello': 'fire', 3: 'seven', 'strong': 45}\n"
     ]
    }
   ],
   "source": [
    "pairs = {}\n",
    "pairs[\"hello\"] = \"fire\"\n",
    "pairs[3] = \"seven\"\n",
    "pairs[\"strong\"] = 45\n",
    "print(pairs)"
   ]
  },
  {
   "cell_type": "markdown",
   "metadata": {},
   "source": [
    "2. Add welcome and 56 pair into pairs dictionary. Print out the dictionary. "
   ]
  },
  {
   "cell_type": "code",
   "execution_count": 10,
   "metadata": {},
   "outputs": [
    {
     "name": "stdout",
     "output_type": "stream",
     "text": [
      "{'hello': 'fire', 3: 'seven', 'strong': 45, 'welcome': 56}\n"
     ]
    }
   ],
   "source": [
    "pairs[\"welcome\"] = 56\n",
    "print(pairs)"
   ]
  },
  {
   "cell_type": "markdown",
   "metadata": {},
   "source": [
    "3. Delete one item from the Dictionary. Print deleted item and the dictionary."
   ]
  },
  {
   "cell_type": "code",
   "execution_count": 11,
   "metadata": {},
   "outputs": [
    {
     "name": "stdout",
     "output_type": "stream",
     "text": [
      "the deleted item is\t\t ('welcome', 56)\n",
      "the dictionary after delet is\t{'hello': 'fire', 3: 'seven', 'strong': 45}\n"
     ]
    }
   ],
   "source": [
    "deleted = pairs.popitem()\n",
    "print(f\"the deleted item is\\t\\t {deleted}\")\n",
    "print(f\"the dictionary after delet is\\t{pairs}\")"
   ]
  },
  {
   "cell_type": "markdown",
   "metadata": {},
   "source": [
    "4. Print the value of an item where key is 3 from the dicitonary"
   ]
  },
  {
   "cell_type": "code",
   "execution_count": 12,
   "metadata": {},
   "outputs": [
    {
     "name": "stdout",
     "output_type": "stream",
     "text": [
      "seven\n"
     ]
    }
   ],
   "source": [
    "print(pairs[3])"
   ]
  },
  {
   "cell_type": "markdown",
   "metadata": {},
   "source": [
    "5. Try to find out if the key called hello exist. Print out the key is found if it is there otherwise print out the key is not there."
   ]
  },
  {
   "cell_type": "code",
   "execution_count": 13,
   "metadata": {},
   "outputs": [
    {
     "name": "stdout",
     "output_type": "stream",
     "text": [
      "the key is found\n"
     ]
    }
   ],
   "source": [
    "if \"hello\" in pairs:\n",
    "    print(\"the key is found\")\n",
    "else:\n",
    "    print(\"the key is not there\")"
   ]
  },
  {
   "cell_type": "markdown",
   "metadata": {},
   "source": [
    "6. Loop through the dictionary and print out each value. "
   ]
  },
  {
   "cell_type": "code",
   "execution_count": 14,
   "metadata": {},
   "outputs": [
    {
     "name": "stdout",
     "output_type": "stream",
     "text": [
      "fire\n",
      "seven\n",
      "45\n"
     ]
    }
   ],
   "source": [
    "for value in pairs.values():\n",
    "    print(value)"
   ]
  },
  {
   "cell_type": "markdown",
   "metadata": {},
   "source": [
    "7. Loop through the dictionary and print out each key."
   ]
  },
  {
   "cell_type": "code",
   "execution_count": 15,
   "metadata": {},
   "outputs": [
    {
     "name": "stdout",
     "output_type": "stream",
     "text": [
      "hello\n",
      "3\n",
      "strong\n"
     ]
    }
   ],
   "source": [
    "for key in pairs.keys():\n",
    "    print(key)"
   ]
  },
  {
   "cell_type": "markdown",
   "metadata": {},
   "source": [
    "8. Loop through the dictionary and print out each key and value pair. "
   ]
  },
  {
   "cell_type": "code",
   "execution_count": 17,
   "metadata": {},
   "outputs": [
    {
     "name": "stdout",
     "output_type": "stream",
     "text": [
      "hello:fire\n",
      "3:seven\n",
      "strong:45\n"
     ]
    }
   ],
   "source": [
    "for key, value in pairs.items():\n",
    "    print(f\"{key}:{value}\")"
   ]
  },
  {
   "cell_type": "markdown",
   "metadata": {},
   "source": [
    "9. Make a nested dictionary called parent with 2 children's information: name, age, gender. Print out parent."
   ]
  },
  {
   "cell_type": "code",
   "execution_count": 18,
   "metadata": {},
   "outputs": [
    {
     "name": "stdout",
     "output_type": "stream",
     "text": [
      "{'child1': {'name': 'John', 'age': 12, 'gender': 'male'}, 'child2': {'name': 'Paul', 'age': 10, 'gender': 'male'}}\n"
     ]
    }
   ],
   "source": [
    "parent = {}\n",
    "\n",
    "child1 = {\n",
    "    \"name\":\"John\",\n",
    "    \"age\":12,\n",
    "    \"gender\":\"male\"\n",
    "}\n",
    "child2 = {\n",
    "    \"name\":\"Paul\",\n",
    "    \"age\":10,\n",
    "    \"gender\":\"male\"\n",
    "}\n",
    "\n",
    "parent[\"child1\"] = child1\n",
    "parent[\"child2\"] = child2\n",
    "print(parent)"
   ]
  },
  {
   "cell_type": "markdown",
   "metadata": {},
   "source": [
    "10. Add new child to above dictionary. Print out the name of all children."
   ]
  },
  {
   "cell_type": "code",
   "execution_count": 20,
   "metadata": {},
   "outputs": [
    {
     "name": "stdout",
     "output_type": "stream",
     "text": [
      "{'child1': {'name': 'John', 'age': 12, 'gender': 'male'}, 'child2': {'name': 'Paul', 'age': 10, 'gender': 'male'}, 'child3': {'name': 'Ruth', 'age': 8, 'gender': 'female'}}\n",
      "********************\n",
      "\n",
      "The names of all children are:\n",
      "John\n",
      "Paul\n",
      "Ruth\n"
     ]
    }
   ],
   "source": [
    "child3 = {\"name\":\"Ruth\",\"age\":8,\"gender\":\"female\"}\n",
    "parent[\"child3\"] = child3\n",
    "print(parent)\n",
    "print(\"*\"*20)\n",
    "print()\n",
    "print(\"The names of all children are:\")\n",
    "for key in parent.keys():\n",
    "    print(parent[key][\"name\"])"
   ]
  },
  {
   "cell_type": "markdown",
   "metadata": {},
   "source": [
    "11. Create a Test Scores program that gets the name of students and test score from a user. Then, generate a list of students who passed and a list of students who failed where passing test score is 60 or above. "
   ]
  },
  {
   "cell_type": "code",
   "execution_count": 29,
   "metadata": {},
   "outputs": [
    {
     "name": "stdout",
     "output_type": "stream",
     "text": [
      "name (or enter 'q' to stop):\tA\n",
      "score\t\t\t\t65\n",
      "name (or enter 'q' to stop):\tB\n",
      "score\t\t\t\t75\n",
      "name (or enter 'q' to stop):\tC\n",
      "score\t\t\t\t80\n",
      "name (or enter 'q' to stop):\tD\n",
      "score\t\t\t\t58\n",
      "name (or enter 'q' to stop):\tE\n",
      "score\t\t\t\t45\n",
      "name (or enter 'q' to stop):\tQ\n",
      "list of students who passed are:\t['A', 'B', 'C']\n",
      "list of students who failed are:\t['D', 'E']\n",
      "Goodbye!\n"
     ]
    }
   ],
   "source": [
    "passed = []\n",
    "failed = []\n",
    "while True:\n",
    "    answer1 = input(\"name (or enter 'q' to stop):\\t\")\n",
    "    if answer1.lower() == 'q':\n",
    "        break\n",
    "    answer2 = input(\"score\\t\\t\\t\\t\")\n",
    "    if float(answer2) >= 60:\n",
    "        passed.append(answer1)\n",
    "    else:\n",
    "        failed.append(answer1)\n",
    "\n",
    "print(f\"list of students who passed are:\\t{passed}\")\n",
    "print(f\"list of students who failed are:\\t{failed}\")       \n",
    "print(\"Goodbye!\")\n",
    "    "
   ]
  },
  {
   "cell_type": "markdown",
   "metadata": {},
   "source": [
    "12. Create a Word Counter program that gets a string of text from a user and then counts the number of times a word occrs in the string. \n",
    "\n",
    "The output should look something like this:\n",
    "\n",
    "    The Word Counter Program\n",
    "    \n",
    "    Enter a text string: \n",
    "    Humpty Dumpty sat on a wall, Humpty Dumpty had a great fall. All the king’s horses and all the king’s men couldn’t put Humpty together again.\n",
    "\n",
    "    a : 2\n",
    "    again : 1\n",
    "    all : 2\n",
    "    and : 1\n",
    "    couldn’t : 1\n",
    "    dumpty : 2\n",
    "    fall : 1\n",
    "    great : 1\n",
    "    had : 1\n",
    "    horses : 1\n",
    "    humpty : 3\n",
    "    king’s : 2\n",
    "    men : 1\n",
    "    on : 1\n",
    "    put : 1\n",
    "    sat : 1\n",
    "    the : 2\n",
    "    together : 1\n",
    "    wall : 1\n",
    "\n",
    "    There were total 26 words in the text string   "
   ]
  },
  {
   "cell_type": "code",
   "execution_count": 27,
   "metadata": {},
   "outputs": [
    {
     "name": "stdout",
     "output_type": "stream",
     "text": [
      "The Word Counter Program\n",
      "\n",
      "Enter a text string:\n",
      "Humpty Dumpty sat on a wall, Humpty Dumpty had a great fall. All the king’s horses and all the king’s men couldn’t put Humpty together again\n",
      "\n",
      "a : 2\n",
      "again : 1\n",
      "all : 2\n",
      "and : 1\n",
      "couldn’t : 1\n",
      "dumpty : 2\n",
      "fall. : 1\n",
      "great : 1\n",
      "had : 1\n",
      "horses : 1\n",
      "humpty : 3\n",
      "king’s : 2\n",
      "men : 1\n",
      "on : 1\n",
      "put : 1\n",
      "sat : 1\n",
      "the : 2\n",
      "together : 1\n",
      "wall, : 1\n",
      "\n",
      "There were total 26 words in the text string\n"
     ]
    }
   ],
   "source": [
    "print(\"The Word Counter Program\")\n",
    "print()\n",
    "response = input(\"Enter a text string:\\n\") \n",
    "response = response.lower()                  # because there maybe some uppercase letters.\n",
    "response_list = response.split()             # to make the string a list\n",
    "response_list.sort()\n",
    "servay = {}               # to count the words let us creat empty dictionary\n",
    "counter = 0\n",
    "for text in response_list:\n",
    "    if text in servay:\n",
    "        servay[text]+=1\n",
    "    else:\n",
    "        servay[text] = 1\n",
    "    counter+= 1\n",
    "\n",
    "print()\n",
    "for key, value in servay.items():\n",
    "    print(f\"{key} : {value}\")\n",
    "print()\n",
    "print(f\"There were total {counter} words in the text string\")\n",
    "    "
   ]
  },
  {
   "cell_type": "code",
   "execution_count": null,
   "metadata": {},
   "outputs": [],
   "source": []
  }
 ],
 "metadata": {
  "kernelspec": {
   "display_name": "Python 3",
   "language": "python",
   "name": "python3"
  },
  "language_info": {
   "codemirror_mode": {
    "name": "ipython",
    "version": 3
   },
   "file_extension": ".py",
   "mimetype": "text/x-python",
   "name": "python",
   "nbconvert_exporter": "python",
   "pygments_lexer": "ipython3",
   "version": "3.8.3"
  }
 },
 "nbformat": 4,
 "nbformat_minor": 4
}
